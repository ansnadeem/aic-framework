{
 "cells": [
  {
   "cell_type": "code",
   "execution_count": 16,
   "id": "latter-gathering",
   "metadata": {},
   "outputs": [],
   "source": [
    "import pandas as pd\n",
    "import numpy as np\n",
    "import json\n",
    "import re\n",
    "import math\n",
    "import matplotlib.pyplot as plt\n",
    "from langdetect import detect\n",
    "from os import path\n",
    "import warnings\n",
    "from pandas.core.common import SettingWithCopyWarning\n",
    "warnings.simplefilter(action=\"ignore\", category=SettingWithCopyWarning)\n",
    "from sklearn.model_selection import train_test_split\n",
    "from sklearn.feature_extraction.text import TfidfVectorizer\n",
    "from sklearn.naive_bayes import MultinomialNB\n",
    "from sklearn.metrics import accuracy_score\n",
    "from sklearn.metrics import f1_score\n",
    "from sklearn.multiclass import OneVsRestClassifier\n",
    "from nltk.corpus import stopwords\n",
    "stop_words = set(stopwords.words('english'))\n",
    "from sklearn.svm import LinearSVC\n",
    "from sklearn.linear_model import LogisticRegression\n",
    "from sklearn.pipeline import Pipeline\n",
    "import seaborn as sns"
   ]
  },
  {
   "cell_type": "code",
   "execution_count": 4,
   "id": "cordless-philippines",
   "metadata": {},
   "outputs": [],
   "source": [
    "df = pd.read_csv('issues.csv')\n",
    "# Fix value of labels column to make it a valid json object\n",
    "df['labels'] = df['labels'].str.replace('\"',\"'\")\n",
    "df['labels'] = df['labels'].str.replace(\"None\",\"'None'\",regex=False)\n",
    "df['labels'] = df['labels'].str.replace(\"{'\",'{\"',regex=False)\n",
    "df['labels'] = df['labels'].str.replace(\"': '\",'\": \"',regex=False)\n",
    "df['labels'] = df['labels'].str.replace(\"', '\",'\", \"',regex=False)\n",
    "df['labels'] = df['labels'].str.replace(\"'}\",'\"}',regex=False)\n",
    "df['labels'] = df['labels'].str.replace(\"': \\\"\",'\": \"',regex=False)\n",
    "df['labels'] = df['labels'].str.replace(\"\\\", '\",'\", \"',regex=False)\n",
    "df['labels'] = df['labels'].str.replace(\"\\\\\",'\\\\\\\\',regex=False)\n",
    "df['labels'] = df['labels'].str.lower()\n",
    "labelled = df[df['labels'] != '[]']"
   ]
  },
  {
   "cell_type": "code",
   "execution_count": 5,
   "id": "controlled-baseline",
   "metadata": {},
   "outputs": [
    {
     "data": {
      "image/png": "[encoded data removed]",
      "text/plain": [
       "<Figure size 432x288 with 1 Axes>"
      ]
     },
     "metadata": {},
     "output_type": "display_data"
    },
    {
     "name": "stdout",
     "output_type": "stream",
     "text": [
      "Total: 2262191\n",
      "Labelled: 1094639\n"
     ]
    }
   ],
   "source": [
    "totalCount = len(df)\n",
    "labelledCount = len(labelled)\n",
    "unlabelledCount = totalCount - labelledCount\n",
    "unlabelledPct = unlabelledCount / totalCount\n",
    "labelledPct = labelledCount / totalCount\n",
    "\n",
    "\n",
    "y = [labelledPct, unlabelledPct]\n",
    "mylabels = [\"Labelled - \" + str(round(labelledPct*100)) + \"%\", \"Unlabelled - \" + str(round(unlabelledPct*100))+\"%\"]\n",
    "myexplode = [0.03, 0]\n",
    "\n",
    "plt.pie(y, labels = mylabels, explode = myexplode)\n",
    "#plt.savefig(\"labelled_unlabelled_pi.png\",dpi=1000)\n",
    "plt.show()\n",
    "\n",
    "print(\"Total: \" +str(totalCount))\n",
    "print(\"Labelled: \"+str(labelledCount))"
   ]
  },
  {
   "cell_type": "code",
   "execution_count": null,
   "id": "possible-survivor",
   "metadata": {},
   "outputs": [],
   "source": [
    "#See how many unique labels are in our dataset\n",
    "#unique_labels = {}\n",
    "#for index, row in labelled.iterrows():\n",
    "#    labelList = json.loads(row['labels'])\n",
    "#    for label in labelList:\n",
    "#        lbl_name = label['name:']\n",
    "#        if lbl_name not in unique_labels:\n",
    "#            unique_labels[lbl_name] = 1\n",
    "#        else:\n",
    "#            unique_labels[lbl_name]+=1\n",
    "#sorted_label_dictionary = dict(sorted(unique_labels.items(), key=lambda item: item[1], reverse=True))"
   ]
  },
  {
   "cell_type": "code",
   "execution_count": 6,
   "id": "electrical-basket",
   "metadata": {},
   "outputs": [],
   "source": [
    "if (path.exists('labelledWithLang.csv') == False):\n",
    "    language_col = []\n",
    "    for index, row in labelled.iterrows():\n",
    "        try:\n",
    "            title_body_concat = \"\"\n",
    "            if(pd.isnull(row['title']) ==False):\n",
    "                title_body_concat = row['title']\n",
    "            if (pd.isnull(row['body'])==False):\n",
    "                title_body_concat = title_body_concat + \" \" + row['body']\n",
    "\n",
    "            language_col.append(detect(title_body_concat))\n",
    "        except Exception as e:\n",
    "            language_col.append('')\n",
    "    labelled['language'] = language_col\n",
    "else:\n",
    "    labelled = pd.read_csv('labelledWithLang.csv')"
   ]
  },
  {
   "cell_type": "code",
   "execution_count": 7,
   "id": "consecutive-pressure",
   "metadata": {},
   "outputs": [],
   "source": [
    "english_labelled = labelled[labelled['language'] == 'en']\n",
    "english_labelled['title_body_concat'] = english_labelled['body'].astype(str) + english_labelled['title']"
   ]
  },
  {
   "cell_type": "code",
   "execution_count": 8,
   "id": "reliable-aaron",
   "metadata": {},
   "outputs": [],
   "source": [
    "english_labelled['enhancement'] = np.where(english_labelled['labels'].str.contains('enhancement'), 1, 0)\n",
    "english_labelled['bug'] = np.where(english_labelled['labels'].str.contains('bug'), 1, 0)\n",
    "english_labelled['feature'] = np.where(english_labelled['labels'].str.contains('feature'), 1, 0)"
   ]
  },
  {
   "cell_type": "code",
   "execution_count": 9,
   "id": "precious-princeton",
   "metadata": {},
   "outputs": [],
   "source": [
    "train, test = train_test_split(english_labelled, random_state=42, test_size=0.33, shuffle=True)\n",
    "X_train = train.title_body_concat\n",
    "X_test = test.title_body_concat\n",
    "\n",
    "\n",
    "categories = ['enhancement', 'bug', 'feature']"
   ]
  },
  {
   "cell_type": "code",
   "execution_count": 10,
   "id": "excess-dover",
   "metadata": {},
   "outputs": [
    {
     "name": "stdout",
     "output_type": "stream",
     "text": [
      "Creating a naive bayes model\n",
      "Training enhancement\n",
      "Training bug\n",
      "Training feature\n"
     ]
    }
   ],
   "source": [
    "print(\"* Creating a naive bayes model\")\n",
    "naiveBayesModel = Pipeline([\n",
    "                ('tfidf', TfidfVectorizer(stop_words=stop_words)),\n",
    "                ('clf', OneVsRestClassifier(MultinomialNB(\n",
    "                    fit_prior=True, class_prior=None))),\n",
    "            ])\n",
    "nb_predictions = {}\n",
    "for category in categories:\n",
    "    print('Training {}'.format(category))\n",
    "    naiveBayesModel.fit(X_train, train[category])\n",
    "    nb_predictions[category] = naiveBayesModel.predict(X_test)"
   ]
  },
  {
   "cell_type": "code",
   "execution_count": 12,
   "id": "hybrid-symbol",
   "metadata": {},
   "outputs": [
    {
     "name": "stdout",
     "output_type": "stream",
     "text": [
      "* Creating a logistic regression based model\n",
      "Training enhancement\n",
      "Training bug\n",
      "Training feature\n"
     ]
    }
   ],
   "source": [
    "print(\"* Creating a logistic regression based model\")\n",
    "logisticRegressionModel = Pipeline([\n",
    "                ('tfidf', TfidfVectorizer(stop_words=stop_words)),\n",
    "                ('clf', OneVsRestClassifier(LogisticRegression(solver='sag'), n_jobs=1)),\n",
    "            ])\n",
    "logistic_predictions = {}\n",
    "for category in categories:\n",
    "    print('Training {}'.format(category))\n",
    "    logisticRegressionModel.fit(X_train, train[category])\n",
    "    logistic_predictions[category] = logisticRegressionModel.predict(X_test)"
   ]
  },
  {
   "cell_type": "code",
   "execution_count": 13,
   "id": "marine-draft",
   "metadata": {},
   "outputs": [
    {
     "name": "stdout",
     "output_type": "stream",
     "text": [
      "* Creating a linear svc model\n",
      "Training enhancement\n",
      "Training bug\n",
      "Training feature\n"
     ]
    }
   ],
   "source": [
    "print(\"* Creating a linear svc model\")\n",
    "linearSVCModel = Pipeline([\n",
    "                ('tfidf', TfidfVectorizer(stop_words=stop_words)),\n",
    "                ('clf', OneVsRestClassifier(LinearSVC(), n_jobs=1)),\n",
    "            ])\n",
    "svc_predictions = {}\n",
    "for category in categories:\n",
    "    print('Training {}'.format(category))\n",
    "    linearSVCModel.fit(X_train, train[category])\n",
    "    svc_predictions[category] = linearSVCModel.predict(X_test)"
   ]
  },
  {
   "cell_type": "code",
   "execution_count": 18,
   "id": "exact-requirement",
   "metadata": {},
   "outputs": [
    {
     "name": "stdout",
     "output_type": "stream",
     "text": [
      "*** Category: enhancement\n",
      "- Accuracy\n",
      " Naive Bayes: 0.78877344038729\n",
      " Logistic Regression: 0.814965172669644\n",
      " Linear SVC: 0.8257956401655462\n",
      "*** Category: bug\n",
      "- Accuracy\n",
      " Naive Bayes: 0.771000076171561\n",
      " Logistic Regression: 0.837495027689773\n",
      " Linear SVC: 0.8502946710940211\n",
      "*** Category: feature\n",
      "- Accuracy\n",
      " Naive Bayes: 0.7971212792308365\n",
      " Logistic Regression: 0.8296324299010052\n",
      " Linear SVC: 0.8431486502117287\n"
     ]
    },
    {
     "data": {
      "image/png": "[encoded data removed]",
      "text/plain": [
       "<Figure size 432x288 with 1 Axes>"
      ]
     },
     "metadata": {
      "needs_background": "light"
     },
     "output_type": "display_data"
    }
   ],
   "source": [
    "n_groups = 3\n",
    "naive_bayes = []\n",
    "logistic_regression = []\n",
    "linear_svc = []\n",
    "for category in categories:\n",
    "    naive_bayes.append(accuracy_score(test[category], nb_predictions[category]))\n",
    "    logistic_regression.append(accuracy_score(test[category], logistic_predictions[category]))\n",
    "    linear_svc.append(accuracy_score(test[category], svc_predictions[category]))\n",
    "    print(\"*** Category: {}\".format(category))\n",
    "    print(\"- Accuracy\")\n",
    "    print(\" Naive Bayes: {}\".format(str(naive_bayes[len(naive_bayes)-1])))\n",
    "    print(\" Logistic Regression: {}\".format(str(logistic_regression[len(logistic_regression)-1])))\n",
    "    print(\" Linear SVC: {}\".format(str(linear_svc[len(linear_svc)-1])))\n",
    "    \n",
    "\n",
    "# create plot\n",
    "fig, ax = plt.subplots()\n",
    "index = np.arange(n_groups)\n",
    "bar_width = 0.2\n",
    "opacity = 0.8\n",
    "\n",
    "plt.bar(index, naive_bayes, bar_width, alpha=opacity, color='r', label='NaiveBayes')\n",
    "plt.bar(index + bar_width, logistic_regression, bar_width, alpha=opacity, color='b', label='LogisticRegression')\n",
    "plt.bar(index + 2*bar_width, linear_svc, bar_width, alpha=opacity, color='g', label='LinearSVM')\n",
    "plt.xlabel('Labels')\n",
    "plt.ylabel('Accuracy')\n",
    "plt.title('Accuracy by model')\n",
    "plt.xticks(index + bar_width, ('Enhancement', 'Bug', 'Feature'))\n",
    "plt.legend()\n",
    "plt.savefig(\"bar_comparison.png\",dpi=1000)\n",
    "#plt.show()"
   ]
  },
  {
   "cell_type": "code",
   "execution_count": null,
   "id": "difficult-zoning",
   "metadata": {},
   "outputs": [],
   "source": []
  }
 ],
 "metadata": {
  "kernelspec": {
   "display_name": "Python 3",
   "language": "python",
   "name": "python3"
  },
  "language_info": {
   "codemirror_mode": {
    "name": "ipython",
    "version": 3
   },
   "file_extension": ".py",
   "mimetype": "text/x-python",
   "name": "python",
   "nbconvert_exporter": "python",
   "pygments_lexer": "ipython3",
   "version": "3.9.2"
  }
 },
 "nbformat": 4,
 "nbformat_minor": 5
}
